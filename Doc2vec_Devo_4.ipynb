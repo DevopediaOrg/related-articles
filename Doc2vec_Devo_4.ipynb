{
  "nbformat": 4,
  "nbformat_minor": 0,
  "metadata": {
    "colab": {
      "name": "Doc2vec_Devo_4.ipynb",
      "provenance": [],
      "collapsed_sections": [],
      "authorship_tag": "ABX9TyOC+WlHaeV0eB11lFCt4iLW",
      "include_colab_link": true
    },
    "kernelspec": {
      "name": "python3",
      "display_name": "Python 3"
    }
  },
  "cells": [
    {
      "cell_type": "markdown",
      "metadata": {
        "id": "view-in-github",
        "colab_type": "text"
      },
      "source": [
        "<a href=\"https://colab.research.google.com/github/manoharsham/topic_model/blob/master/Doc2vec_Devo_4.ipynb\" target=\"_parent\"><img src=\"https://colab.research.google.com/assets/colab-badge.svg\" alt=\"Open In Colab\"/></a>"
      ]
    },
    {
      "cell_type": "markdown",
      "metadata": {
        "id": "015s1NDe-IKc",
        "colab_type": "text"
      },
      "source": [
        "**Topic Modeling in Python**\n",
        "Its a method to extract hidden topics from a document/corpus and label certain parts of it. This helps to segment a document to certain topics for different users. It is helpful for summarization, improving customer support, SEO and many more."
      ]
    },
    {
      "cell_type": "code",
      "metadata": {
        "id": "rnRAw1MvbQRG",
        "colab_type": "code",
        "colab": {}
      },
      "source": [
        "  NUM_OF_TRAIN=400\n",
        "  NUM_OF_DEVOPEDIA_ARTICLES=225\n",
        "  FULL_DEVO_TRAIN=1\n",
        "  ALPHA_STEP=0.001\n",
        "  MIN_ALPHA=0.000125\n",
        "  MAX_EPOCHS = 20\n",
        "  EMB_DIM = 50\n",
        "  DEBUG_MODE=1\n",
        "  alpha = 0.025"
      ],
      "execution_count": 0,
      "outputs": []
    },
    {
      "cell_type": "code",
      "metadata": {
        "id": "DSz6cduHeyoA",
        "colab_type": "code",
        "outputId": "4adfb122-614b-4ac9-bbe5-43789d6ced2a",
        "colab": {
          "base_uri": "https://localhost:8080/",
          "height": 52
        }
      },
      "source": [
        "#Parsing Devopedia data\n",
        "from google.colab import drive\n",
        "drive.mount('/content/gdrive')\n",
        "import json\n",
        "#inpfilename='/content/gdrive/My Drive/devopediaArticles.json'\n",
        "outfilename='/content/gdrive/My Drive/devodoc_full2.json'\n",
        "with open(outfilename) as json_file:\n",
        "    data = json.load(json_file)\n",
        "doclist_test=data['text']\n",
        "titles_test=data['title']\n",
        "related_test=data['related']\n",
        "\n",
        "print(len(related_test))\n",
        "\n"
      ],
      "execution_count": 135,
      "outputs": [
        {
          "output_type": "stream",
          "text": [
            "Drive already mounted at /content/gdrive; to attempt to forcibly remount, call drive.mount(\"/content/gdrive\", force_remount=True).\n",
            "517\n"
          ],
          "name": "stdout"
        }
      ]
    },
    {
      "cell_type": "code",
      "metadata": {
        "id": "lDqWsicBJoU8",
        "colab_type": "code",
        "outputId": "a5eef4b4-d8e7-4bb7-84de-31872e8cb949",
        "colab": {
          "base_uri": "https://localhost:8080/",
          "height": 69
        }
      },
      "source": [
        "#create unique wiki data and then wiki+devo -->titles, wiki only\n",
        "import numpy as np\n",
        "\n",
        "#indices = [i for i, x in enumerate(titles) if x == 'Neural Style Transfer']\n",
        "if(FULL_DEVO_TRAIN): #Separate test set and Test set followed by wiki set not present in test set\n",
        "  titles_train=titles_test.copy()\n",
        "  doclist_train=doclist_test.copy()\n",
        "  related_train=related_test.copy()\n",
        "  titles_full=titles_train.copy()\n",
        "  doclist_full=doclist_train.copy()\n",
        "  related_full=related_train.copy()\n",
        "  titles_test= titles_full[0:NUM_OF_DEVOPEDIA_ARTICLES].copy()\n",
        "  doclist_test= doclist_full[0:NUM_OF_DEVOPEDIA_ARTICLES].copy()\n",
        "  related_test= related_full[0:NUM_OF_DEVOPEDIA_ARTICLES].copy()\n",
        "  \n",
        "\n",
        " \n",
        "else:#Test set separate and Wiki only set not present in Test set separate\n",
        "  titles_train=[]\n",
        "  doclist_train=[]\n",
        "  related_train=[]\n",
        "  titles_full=titles_test.copy()\n",
        "  doclist_full=doclist_test.copy()\n",
        "  related_full=related_test.copy()\n",
        "  titles_train=titles_test[-NUM_OF_TRAIN:].copy()\n",
        "  doclist_train=doclist_test[-NUM_OF_TRAIN:].copy()\n",
        "  related_train=related_test[-NUM_OF_TRAIN].copy()\n",
        "  titles_test=titles_full[0:-NUM_OF_TRAIN].copy()\n",
        "  doclist_test=doclist_full[0:-NUM_OF_TRAIN].copy\n",
        "  related_test=related_test[0:-NUM_OF_TRAIN].copy()\n",
        " \n",
        "titles=titles_train.copy()\n",
        "doclist=doclist_train.copy()\n",
        "related=related_train.copy() \n",
        "print(len(titles_test))\n",
        "print(len(titles_train))\n",
        "print(len(titles_full))\n",
        "\n",
        "\n"
      ],
      "execution_count": 136,
      "outputs": [
        {
          "output_type": "stream",
          "text": [
            "225\n",
            "517\n",
            "517\n"
          ],
          "name": "stdout"
        }
      ]
    },
    {
      "cell_type": "code",
      "metadata": {
        "id": "uGkvX2jWCBip",
        "colab_type": "code",
        "colab": {}
      },
      "source": [
        "#import modules\n",
        "import matplotlib.pyplot as plt"
      ],
      "execution_count": 0,
      "outputs": []
    },
    {
      "cell_type": "code",
      "metadata": {
        "id": "S6oIOx1_1Dqe",
        "colab_type": "code",
        "outputId": "b4329920-7bd9-4ce6-823d-7436409da444",
        "colab": {
          "base_uri": "https://localhost:8080/",
          "height": 104
        }
      },
      "source": [
        "print(len(doclist))\n",
        "import nltk\n",
        "nltk.download('punkt')\n",
        "import nltk\n",
        "nltk.download('stopwords') \n",
        "from gensim.models.doc2vec import Doc2Vec, TaggedDocument\n",
        "from nltk.tokenize import word_tokenize"
      ],
      "execution_count": 138,
      "outputs": [
        {
          "output_type": "stream",
          "text": [
            "517\n",
            "[nltk_data] Downloading package punkt to /root/nltk_data...\n",
            "[nltk_data]   Package punkt is already up-to-date!\n",
            "[nltk_data] Downloading package stopwords to /root/nltk_data...\n",
            "[nltk_data]   Package stopwords is already up-to-date!\n"
          ],
          "name": "stdout"
        }
      ]
    },
    {
      "cell_type": "code",
      "metadata": {
        "id": "OYovXKO2EVQW",
        "colab_type": "code",
        "colab": {}
      },
      "source": [
        "contractions_dict = {     \n",
        "\"ain't\": \"am not\",\n",
        "\"aren't\": \"are not\",\n",
        "\"can't\": \"cannot\",\n",
        "\"can't've\": \"cannot have\",\n",
        "\"'cause\": \"because\",\n",
        "\"could've\": \"could have\",\n",
        "\"couldn't\": \"could not\",\n",
        "\"couldn't've\": \"could not have\",\n",
        "\"didn't\": \"did not\",\n",
        "\"doesn't\": \"does not\",\n",
        "\"don't\": \"do not\",\n",
        "\"hadn't\": \"had not\",\n",
        "\"hadn't've\": \"had not have\",\n",
        "\"hasn't\": \"has not\",\n",
        "\"haven't\": \"have not\",\n",
        "\"he'd\": \"he had\",\n",
        "\"he'd've\": \"he would have\",\n",
        "\"he'll\": \"he will\",\n",
        "\"he'll've\": \"he will have\",\n",
        "\"he's\": \"he is\",\n",
        "\"how'd\": \"how did\",\n",
        "\"how'd'y\": \"how do you\",\n",
        "\"how'll\": \"how will\",\n",
        "\"how's\": \"how is\",\n",
        "\"I'd\": \"I had\",\n",
        "\"I'd've\": \"I would have\",\n",
        "\"I'll\": \"I will\",\n",
        "\"I'll've\": \"I will have\",\n",
        "\"I'm\": \"I am\",\n",
        "\"I've\": \"I have\",\n",
        "\"isn't\": \"is not\",\n",
        "\"it'd\": \"it had\",\n",
        "\"it'd've\": \"it would have\",\n",
        "\"it'll\": \"it will\",\n",
        "\"it'll've\": \"iit will have\",\n",
        "\"it's\": \"it is\",\n",
        "\"let's\": \"let us\",\n",
        "\"ma'am\": \"madam\",\n",
        "\"mayn't\": \"may not\",\n",
        "\"might've\": \"might have\",\n",
        "\"mightn't\": \"might not\",\n",
        "\"mightn't've\": \"might not have\",\n",
        "\"must've\": \"must have\",\n",
        "\"mustn't\": \"must not\",\n",
        "\"mustn't've\": \"must not have\",\n",
        "\"needn't\": \"need not\",\n",
        "\"needn't've\": \"need not have\",\n",
        "\"o'clock\": \"of the clock\",\n",
        "\"oughtn't\": \"ought not\",\n",
        "\"oughtn't've\": \"ought not have\",\n",
        "\"shan't\": \"shall not\",\n",
        "\"sha'n't\": \"shall not\",\n",
        "\"shan't've\": \"shall not have\",\n",
        "\"she'd\": \"she had\",\n",
        "\"she'd've\": \"she would have\",\n",
        "\"she'll\": \"she will\",\n",
        "\"she'll've\": \"she will have\",\n",
        "\"she's\": \"she is\",\n",
        "\"should've\": \"should have\",\n",
        "\"shouldn't\": \"should not\",\n",
        "\"shouldn't've\": \"should not have\",\n",
        "\"so've\": \"so have\",\n",
        "\"so's\": \"so is\",\n",
        "\"that'd\": \"that had\",\n",
        "\"that'd've\": \"that would have\",\n",
        "\"that's\": \"that is\",\n",
        "\"there'd\": \"there had\",\n",
        "\"there'd've\": \"there would have\",\n",
        "\"there's\": \"there is\",\n",
        "\"they'd\": \"they had\",\n",
        "\"they'd've\": \"they would have\",\n",
        "\"they'll\": \"they will\",\n",
        "\"they'll've\": \"they will have\",\n",
        "\"they're\": \"they are\",\n",
        "\"they've\": \"they have\",\n",
        "\"to've\": \"to have\",\n",
        "\"wasn't\": \"was not\",\n",
        "\"we'd\": \"we had\",\n",
        "\"we'd've\": \"we would have\",\n",
        "\"we'll\": \"we will\",\n",
        "\"we'll've\": \"we will have\",\n",
        "\"we're\": \"we are\",\n",
        "\"we've\": \"we have\",\n",
        "\"weren't\": \"were not\",\n",
        "\"what'll\": \"what will\",\n",
        "\"what'll've\": \"what will have\",\n",
        "\"what're\": \"what are\",\n",
        "\"what's\": \"what is\",\n",
        "\"what've\": \"what have\",\n",
        "\"when's\": \"when is\",\n",
        "\"when've\": \"when have\",\n",
        "\"where'd\": \"where did\",\n",
        "\"where's\": \"where is\",\n",
        "\"where've\": \"where have\",\n",
        "\"who'll\": \"who will\",\n",
        "\"who'll've\": \"who will have\",\n",
        "\"who's\": \"who is\",\n",
        "\"who've\": \"who have\",\n",
        "\"why's\": \"why is\",\n",
        "\"why've\": \"why have\",\n",
        "\"will've\": \"will have\",\n",
        "\"won't\": \"will not\",\n",
        "\"won't've\": \"will not have\",\n",
        "\"would've\": \"would have\",\n",
        "\"wouldn't\": \"would not\",\n",
        "\"wouldn't've\": \"would not have\",\n",
        "\"y'all\": \"you all\",\n",
        "\"y'all'd\": \"you all would\",\n",
        "\"y'all'd've\": \"you all would have\",\n",
        "\"y'all're\": \"you all are\",\n",
        "\"y'all've\": \"you all have\",\n",
        "\"you'd\": \"you had\",\n",
        "\"you'd've\": \"you would have\",\n",
        "\"you'll\": \"you will\",\n",
        "\"you'll've\": \"you will have\",\n",
        "\"you're\": \"you are\",\n",
        "\"you've\": \"you have\"\n",
        "}\n",
        "import re\n",
        "import nltk\n",
        "\n",
        "def expand_contractions(text, contractions_dict):\n",
        "    contractions_pattern = re.compile('({})'.format('|'.join(contractions_dict.keys())),\n",
        "                                      flags=re.IGNORECASE | re.DOTALL)\n",
        "\n",
        "    def expand_match(contraction):\n",
        "        match = contraction.group(0)\n",
        "        first_char = match[0]\n",
        "        expanded_contraction = contractions_dict.get(match) \\\n",
        "            if contractions_dict.get(match) \\\n",
        "            else contractions_dict.get(match.lower())\n",
        "        expanded_contraction = expanded_contraction\n",
        "        return expanded_contraction\n",
        "\n",
        "    expanded_text = contractions_pattern.sub(expand_match, text)\n",
        "    expanded_text = re.sub(\"'\", \"\", expanded_text)\n",
        "    return expanded_text"
      ],
      "execution_count": 0,
      "outputs": []
    },
    {
      "cell_type": "code",
      "metadata": {
        "id": "2Ad9fFfPEcDI",
        "colab_type": "code",
        "colab": {
          "base_uri": "https://localhost:8080/",
          "height": 69
        },
        "outputId": "0289650b-a5d2-4f4c-89ce-41ced82ae8a5"
      },
      "source": [
        "nltk.download('wordnet')\n",
        "from nltk.corpus import wordnet\n",
        "from nltk.stem import WordNetLemmatizer \n",
        "lemmatizer = WordNetLemmatizer()\n",
        "print(lemmatizer.lemmatize(\"prints\"))"
      ],
      "execution_count": 140,
      "outputs": [
        {
          "output_type": "stream",
          "text": [
            "[nltk_data] Downloading package wordnet to /root/nltk_data...\n",
            "[nltk_data]   Package wordnet is already up-to-date!\n",
            "print\n"
          ],
          "name": "stdout"
        }
      ]
    },
    {
      "cell_type": "code",
      "metadata": {
        "id": "ci_KHstnFIUQ",
        "colab_type": "code",
        "colab": {}
      },
      "source": [
        "#Preprocess data function\n",
        "import os.path\n",
        "from nltk.tokenize import RegexpTokenizer\n",
        "from nltk.corpus import stopwords\n",
        "from nltk.stem.porter import PorterStemmer\n",
        "from nltk.corpus import wordnet\n",
        "from nltk.stem import WordNetLemmatizer\n",
        "from gensim.models.coherencemodel import CoherenceModel\n",
        "import matplotlib.pyplot as plt\n",
        "from string import punctuation\n",
        "\n",
        "def preprocess_data(document):\n",
        "    \"\"\"\n",
        "    Input  : docuemnt list\n",
        "    Purpose: preprocess text (tokenize, removing stopwords, and stemming)\n",
        "    Output : preprocessed text\n",
        "    \"\"\"\n",
        "    # initialize regex tokenizer\n",
        "    \n",
        "    # create English stop words list\n",
        "    en_stop = set(stopwords.words('english'))\n",
        "    # Create p_stemmer of class PorterStemmer\n",
        "    #p_stemmer = PorterStemmer()\n",
        "    # create lemmaizer for lemmatization\n",
        "    lemmatizer = WordNetLemmatizer()\n",
        "    # list for tokenized documents in loop\n",
        "    texts = []\n",
        "    # loop through document list\n",
        "        # clean and tokenize document string\n",
        "    #raw = ''.join(document).lower()\n",
        "    document=expand_contractions(document.lower(),contractions_dict)\n",
        "    document=re.sub(r\"$\\d+\\W+|\\b\\d+\\b|\\W+\\d+$\", \"\", document)\n",
        "    document = ''.join(c for c in document if c not in punctuation)\n",
        "\n",
        "    document=document.lower().replace('(','').replace(')','')\n",
        "    document=document.replace(',','').replace('.','').replace(':','').replace(';','')\n",
        "    raw = document.lower()\n",
        "    #tokenizer = RegexpTokenizer(r'\\w+')\n",
        "    #tokens = tokenizer.tokenize(raw)\n",
        "    tokens = word_tokenize(raw)\n",
        "        # remove stop words from tokens\n",
        "    stopped_tokens = [i for i in tokens if not i in en_stop]\n",
        "        # lemma tokens\n",
        "    lemma_tokens = [lemmatizer.lemmatize(i) for i in stopped_tokens]\n",
        "        # add tokens to list\n",
        "    #texts.append(stemmed_tokens)\n",
        "    texts=lemma_tokens\n",
        "    return texts"
      ],
      "execution_count": 0,
      "outputs": []
    },
    {
      "cell_type": "code",
      "metadata": {
        "id": "HyrTtn5REq5C",
        "colab_type": "code",
        "colab": {
          "base_uri": "https://localhost:8080/",
          "height": 55
        },
        "outputId": "75868d2d-b835-4612-9096-fe714cfc6e40"
      },
      "source": [
        "print(preprocess_data(doclist[300]))                      ## for stemming"
      ],
      "execution_count": 142,
      "outputs": [
        {
          "output_type": "stream",
          "text": [
            "['identity', 'management', 'idm', 'also', 'known', 'identity', 'access', 'management', 'iam', 'idam', 'framework', 'policy', 'technology', 'ensuring', 'proper', 'people', 'enterprise', 'appropriate', 'access', 'technology', 'resource', 'idm', 'system', 'fall', 'overarching', 'umbrella', 'security', 'data', 'management', 'identity', 'access', 'management', 'system', 'identify', 'authenticate', 'authorize', 'individual', 'utilizing', 'resource', 'also', 'hardware', 'application', 'employee', 'need', 'access', 'identity', 'access', 'management', 'solution', 'become', 'prevalent', 'critical', 'recent', 'year', 'regulatory', 'compliance', 'requirement', 'become', 'increasingly', 'rigorous', 'complex', 'address', 'need', 'ensure', 'appropriate', 'access', 'resource', 'across', 'increasingly', 'heterogeneous', 'technology', 'environment', 'meet', 'increasingly', 'rigorous', 'compliance', 'requirement', 'term', 'identity', 'management', 'idm', 'identity', 'access', 'management', 'used', 'interchangeably', 'area', 'identity', 'access', 'management', 'identitymanagement', 'system', 'product', 'application', 'platform', 'manage', 'identifying', 'ancillary', 'data', 'entity', 'include', 'individual', 'computerrelated', 'hardware', 'software', 'application', 'idm', 'cover', 'issue', 'user', 'gain', 'identity', 'role', 'sometimes', 'permission', 'identity', 'grant', 'protection', 'identity', 'technology', 'supporting', 'protection', 'eg', 'network', 'protocol', 'digital', 'certificate', 'password', 'etc', 'identity', 'management', 'id', 'management', 'organizational', 'process', 'identifying', 'authenticating', 'authorizing', 'individual', 'group', 'people', 'access', 'application', 'system', 'network', 'associating', 'user', 'right', 'restriction', 'established', 'identity', 'identity', 'management', 'idm', 'task', 'controlling', 'information', 'user', 'computer', 'information', 'includes', 'information', 'authenticates', 'identity', 'user', 'information', 'describes', 'data', 'action', 'authorized', 'access', 'andor', 'perform', 'also', 'includes', 'management', 'descriptive', 'information', 'user', 'information', 'accessed', 'modified', 'addition', 'user', 'managed', 'entity', 'typically', 'include', 'hardware', 'network', 'resource', 'even', 'application', 'digital', 'identity', 'entity', 'online', 'presence', 'encompassing', 'personal', 'identifying', 'information', 'pii', 'ancillary', 'information', 'see', 'oecd', 'nist', 'guideline', 'protecting', 'pii', 'interpreted', 'codification', 'identity', 'name', 'attribute', 'physical', 'instance', 'way', 'facilitates', 'processing', 'realworld', 'context', 'engineering', 'online', 'system', 'identity', 'management', 'involve', 'four', 'basic', 'function', 'general', 'model', 'identity', 'constructed', 'small', 'set', 'axiom', 'example', 'identity', 'given', 'namespace', 'unique', 'identity', 'bear', 'specific', 'relationship', 'corresponding', 'entity', 'real', 'world', 'axiomatic', 'model', 'express', 'pure', 'identity', 'sense', 'model', 'constrained', 'specific', 'application', 'context', 'general', 'entity', 'real', 'virtual', 'multiple', 'identity', 'identity', 'encompass', 'multiple', 'attribute', 'unique', 'within', 'given', 'name', 'space', 'diagram', 'illustrates', 'conceptual', 'relationship', 'identity', 'entity', 'well', 'identity', 'attribute', 'theoretical', 'practical', 'model', 'digital', 'identity', 'given', 'identity', 'object', 'consists', 'finite', 'set', 'property', 'attribute', 'value', 'property', 'record', 'information', 'object', 'either', 'purpose', 'external', 'model', 'operate', 'model', 'example', 'classification', 'retrieval', 'pure', 'identity', 'model', 'strictly', 'concerned', 'external', 'semantics', 'property', 'common', 'departure', 'pure', 'identity', 'practice', 'occurs', 'property', 'intended', 'assure', 'aspect', 'identity', 'example', 'digital', 'signature', 'software', 'token', 'model', 'may', 'use', 'internally', 'verify', 'aspect', 'identity', 'satisfaction', 'external', 'purpose', 'extent', 'model', 'express', 'semantics', 'internally', 'pure', 'model', 'contrast', 'situation', 'property', 'might', 'externally', 'used', 'purpose', 'information', 'security', 'managing', 'access', 'entitlement', 'simply', 'stored', 'maintained', 'retrieved', 'without', 'special', 'treatment', 'model', 'absence', 'external', 'semantics', 'within', 'model', 'qualifies', 'pure', 'identity', 'model', 'identity', 'management', 'defined', 'set', 'operation', 'given', 'identity', 'model', 'generally', 'set', 'capability', 'reference', 'practice', 'identity', 'management', 'often', 'expands', 'express', 'model', 'content', 'provisioned', 'reconciled', 'among', 'multiple', 'identity', 'model', 'user', 'access', 'enables', 'user', 'assume', 'specific', 'digital', 'identity', 'across', 'application', 'enables', 'access', 'control', 'assigned', 'evaluated', 'identity', 'use', 'single', 'identity', 'given', 'user', 'across', 'multiple', 'system', 'eas', 'task', 'administrator', 'user', 'simplifies', 'access', 'monitoring', 'verification', 'allows', 'organization', 'minimize', 'excessive', 'privilege', 'granted', 'one', 'user', 'user', 'access', 'tracked', 'initiation', 'termination', 'user', 'access', 'organization', 'deploy', 'identity', 'management', 'process', 'system', 'motivation', 'normally', 'primarily', 'manage', 'set', 'identity', 'rather', 'grant', 'appropriate', 'access', 'right', 'entity', 'via', 'identity', 'word', 'access', 'management', 'normally', 'motivation', 'identity', 'management', 'two', 'set', 'process', 'consequently', 'closely', 'related', 'organization', 'continue', 'add', 'service', 'internal', 'user', 'customer', 'many', 'service', 'require', 'identity', 'management', 'properly', 'provide', 'service', 'increasingly', 'identity', 'management', 'partitioned', 'application', 'function', 'single', 'identity', 'serve', 'many', 'even', 'organization', 'activity', 'internal', 'use', 'identity', 'management', 'evolving', 'control', 'access', 'digital', 'asset', 'including', 'device', 'network', 'equipment', 'server', 'portal', 'content', 'application', 'andor', 'product', 'service', 'often', 'require', 'access', 'extensive', 'information', 'user', 'including', 'address', 'book', 'preference', 'entitlement', 'contact', 'information', 'since', 'much', 'information', 'subject', 'privacy', 'andor', 'confidentiality', 'requirement', 'controlling', 'access', 'vital', 'identity', 'federation', 'comprises', 'one', 'system', 'share', 'user', 'access', 'allow', 'user', 'log', 'based', 'authenticating', 'one', 'system', 'participating', 'federation', 'trust', 'several', 'system', 'often', 'known', 'circle', 'trust', 'setup', 'one', 'system', 'act', 'identity', 'provider', 'idp', 'system', 'act', 'service', 'provider', 'sp', 'user', 'need', 'access', 'service', 'controlled', 'sp', 'first', 'authenticate', 'idp', 'upon', 'successful', 'authentication', 'idp', 'sends', 'secure', 'assertion', 'service', 'provider', 'saml', 'assertion', 'specified', 'using', 'mark', 'language', 'intended', 'describing', 'security', 'assertion', 'used', 'verifier', 'make', 'statement', 'relying', 'party', 'identity', 'claimant', 'saml', 'assertion', 'may', 'optionally', 'digitally', 'signed', 'addition', 'creation', 'deletion', 'modification', 'user', 'identity', 'data', 'either', 'assisted', 'selfservice', 'identity', 'management', 'control', 'ancillary', 'entity', 'data', 'use', 'application', 'contact', 'information', 'location', 'putting', 'personal', 'information', 'onto', 'computer', 'network', 'necessarily', 'raise', 'privacy', 'concern', 'absent', 'proper', 'protection', 'data', 'may', 'used', 'implement', 'surveillance', 'societytaylor', 'lip', 'organ', 'social', 'web', 'online', 'social', 'networking', 'service', 'make', 'heavy', 'use', 'identity', 'management', 'helping', 'user', 'decide', 'manage', 'access', 'personal', 'information', 'become', 'issue', 'broad', 'concerngross', 'acquisti', 'heinz', 'harv', 'error', 'target', 'citerefgrossacquistiheinz2008', 'helptaylor', 'identity', 'theft', 'happens', 'thief', 'gain', 'access', 'identity', 'information', 'personal', 'detail', 'needed', 'get', 'access', 'bank', 'account', 'research', 'related', 'management', 'identity', 'cover', 'discipline', 'technology', 'social', 'science', 'humanity', 'law', 'within', 'seventh', 'research', 'framework', 'programme', 'european', 'union', 'several', 'new', 'project', 'related', 'identity', 'management', 'started', 'picos', 'project', 'investigates', 'develops', 'stateoftheart', 'platform', 'providing', 'trust', 'privacy', 'identity', 'management', 'mobile', 'community', 'primelife', 'develops', 'concept', 'technology', 'help', 'individual', 'protect', 'autonomy', 'retain', 'control', 'personal', 'information', 'irrespective', 'activity', 'swift', 'focus', 'extending', 'identity', 'function', 'federation', 'network', 'addressing', 'usability', 'privacy', 'concern', 'leverage', 'identity', 'technology', 'key', 'integrate', 'service', 'transport', 'infrastructure', 'benefit', 'user', 'provider', 'ongoing', 'project', 'include', 'future', 'identity', 'information', 'society', 'fidis', 'guide', 'prime', 'academic', 'journal', 'publish', 'article', 'related', 'identity', 'management', 'include', 'le', 'specialized', 'journal', 'publish', 'topic', 'instance', 'special', 'issue', 'identity', 'iso', 'specifically', 'isoiec', 'jtc1', 'sc27', 'security', 'technique', 'wg5', 'identity', 'access', 'management', 'privacy', 'technique', 'conducting', 'standardization', 'work', 'identity', 'management', 'iso', 'elaboration', 'framework', 'identity', 'management', 'including', 'definition', 'identityrelated', 'term', 'published', 'standard', 'current', 'work', 'item', 'includes', 'following', 'organization', 'normally', 'role', 'department', 'responsible', 'managing', 'schema', 'digital', 'identity', 'staff', 'object', 'represented', 'object', 'identity', 'object', 'identifier', 'oid', 'organizational', 'policy', 'process', 'procedure', 'related', 'oversight', 'identity', 'management', 'sometime', 'referred', 'identity', 'governance', 'administration', 'iga', 'commercial', 'software', 'tool', 'exist', 'help', 'automate', 'simplify', 'organisationallevel', 'identity', 'management', 'function', 'effectively', 'appropriately', 'tool', 'used', 'fall', 'within', 'scope', 'broader', 'governance', 'risk', 'management', 'compliance', 'regime', 'since', 'identity', 'access', 'management', 'professional', 'professional', 'organization', 'idpro', 'committee', 'initiated', 'publication', 'annotated', 'bibliography', 'listing', 'number', 'important', 'publication', 'book', 'presentation', 'video']\n"
          ],
          "name": "stdout"
        }
      ]
    },
    {
      "cell_type": "code",
      "metadata": {
        "id": "uGuvUbOv1KnO",
        "colab_type": "code",
        "colab": {}
      },
      "source": [
        "#tagged_data = [TaggedDocument(words=word_tokenize(_d.lower()), tags=[str(i)]) for i, _d in enumerate(doclist)]\n",
        "#tagged_data = [TaggedDocument(words=preprocess_data(_d), tags=[str(i)]) for i, _d in enumerate(doclist)]\n",
        "#tagged_data[758]"
      ],
      "execution_count": 0,
      "outputs": []
    },
    {
      "cell_type": "code",
      "metadata": {
        "id": "hgrnFttuiWyd",
        "colab_type": "code",
        "colab": {
          "base_uri": "https://localhost:8080/",
          "height": 72
        },
        "outputId": "00aac2bc-71c3-4f5a-de10-2c11c4a99652"
      },
      "source": [
        "tagged_data = [TaggedDocument(words=preprocess_data(_d), tags=[str(i)]) for i, _d in enumerate(doclist_full)]\n",
        "tagged_data_full = [preprocess_data(_d) for i, _d in enumerate(doclist_full)]\n",
        "\n",
        "print(tagged_data[100][0])\n",
        "print(list(tagged_data_full[100]))"
      ],
      "execution_count": 144,
      "outputs": [
        {
          "output_type": "stream",
          "text": [
            "['imagepng', 'selection', 'deep', 'learning', 'framework', 'corporate', 'backing', 'source', 'den', 'bakker', 'den', 'bakker', 'deep', 'learning', 'dl', 'neural', 'network', 'approach', 'machine', 'learning', 'ml', 'possible', 'build', 'dl', 'solution', 'scratch', 'dl', 'framework', 'convenient', 'way', 'build', 'quickly', 'framework', 'provide', 'different', 'neural', 'network', 'architecture', 'box', 'popular', 'language', 'developer', 'use', 'across', 'multiple', 'platform', 'choosing', 'framework', 'problem', 'depends', 'number', 'factor', 'therefore', 'possible', 'name', 'one', 'framework', 'preferred', 'another', 'many', 'framework', 'open', 'source', 'cloud', 'provider', 'also', 'provide', 'easy', 'way', 'deploy', 'execute', 'framework', 'infrastructure', 'sometimes', 'term', 'framework', 'used', 'interchangeably', 'term', 'toolkit', 'libraryimagepng', 'chart', 'showing', 'popular', 'dl', 'framework', 'source', 'hale', 'hale', 'among', 'popular', 'open', 'source', 'dl', 'framework', 'tensorflow', 'caffe', 'kera', 'pytorch', 'caffe2', 'cntk', 'mxnet', 'deeplearning4j', 'dl4j', 'many', 'many', 'framework', 'support', 'python', 'programming', 'language', 'choice', 'dl4j', 'java', 'programmer', 'model', 'written', 'kera', 'imported', 'dl4jhale', 'among', 'supporting', 'c', 'include', 'caffe', 'dl4j', 'cntk', 'mxnet', 'tensorflowwikipedia', '2019a', 'torch', 'written', 'lua', 'cwikipedia', '2019b', 'pytorch', 'extends', 'improves', 'python', 'support', 'paddle', 'framework', 'baiduskymind', 'wiki', '2019b', 'framework', 'level', 'abstraction', 'example', 'kera', 'provides', 'simpler', 'api', 'developer', 'sits', 'top', 'tensorflow', 'theano', 'cntkhale', 'likewise', 'gluon', 'api', 'work', 'mxnet', 'cntkskymind', 'wiki', '2019b', 'gluon', 'seen', 'competition', 'kerasden', 'bakker', 'among', 'open', 'sourced', 'intel', 'math', 'kernel', 'library', 'matlab', 'neural', 'network', 'toolbox', 'neural', 'designer', 'wolfram', 'mathematica', 'neuralnetworkswikipedia', '2019a', 'curated', 'list', 'ml', 'frameworkshttpsgithubcomjosephmisitiawesomemachinelearning', 'available', 'onlineimagepng', 'comparison', 'dl', 'framework', 'source', 'rubashkin', 'rubashkin', 'obvious', 'factor', 'consider', 'licensing', 'documentation', 'active', 'community', 'adoption', 'programming', 'language', 'modularity', 'ease', 'use', 'performance', 'kera', 'pytorch', 'said', 'easy', 'use', 'also', 'consider', 'tensorflow', 'popularityhale', 'specifically', 'check', 'followingskymind', 'wiki', '2019b', 'style', 'imperative', 'symbolic', 'core', 'development', 'environment', 'programming', 'language', 'intuitive', 'api', 'fast', 'compile', 'time', 'tool', 'debugger', 'support', 'abstracting', 'computational', 'graphden', 'bakker', 'graph', 'visualization', 'tensorboard', 'etc', 'neural', 'network', 'architecture', 'support', 'deep', 'autoencoders', 'restricted', 'boltzmann', 'machine', 'rbms', 'convolutional', 'neural', 'network', 'cnns', 'recurrent', 'neural', 'network', 'rnns', 'long', 'shortterm', 'memory', 'lstms', 'generative', 'adversarial', 'network', 'gans', 'etc', 'optimization', 'algorithm', 'gradient', 'descent', 'gd', 'momentumbased', 'gd', 'adagrad', 'rmsprop', 'adammwiti', 'etc', 'targeted', 'application', 'area', 'image', 'recognition', 'video', 'detection', 'voiceaudio', 'recognition', 'text', 'analytics', 'natural', 'language', 'processing', 'nlp', 'timeseries', 'forecasting', 'etc', 'hardware', 'extensibility', 'support', 'multiple', 'cpu', 'gpus', 'gpgpus', 'tpus', 'across', 'multiple', 'machine', 'cluster', 'optimized', 'hardware', 'execute', 'optimized', 'lowlevel', 'code', 'supporting', 'cuda', 'blas', 'etcsanthanam', 'deployment', 'framework', 'easy', 'deploy', 'production', 'tensorflow', 'servingmakadia', 'let', 'u', 'briefly', 'understand', 'difference', 'two', 'imperative', 'program', 'perform', 'computation', 'encountered', 'along', 'program', 'flow', 'symbolic', 'program', 'define', 'symbol', 'combined', 'result', 'call', 'computational', 'graph', 'symbol', 'might', 'initial', 'value', 'symbol', 'acquire', 'value', 'graph', 'compiled', 'invoked', 'particular', 'valuesmxnet', '2019a', 'torch', 'chainer', 'minerva', 'example', 'imperativestyle', 'dl', 'framework', 'symbolicstyle', 'dl', 'framework', 'include', 'tensorflow', 'theano', 'cgt', 'also', 'symbolic', 'style', 'cxxnet', 'caffe', 'define', 'graph', 'configuration', 'filesmxnet', '2019a', 'imperative', 'framework', 'flexible', 'since', 'closer', 'language', 'symbolic', 'framework', 'le', 'flexibility', 'since', 'write', 'domainspecific', 'language', 'however', 'symbolic', 'framework', 'tend', 'efficient', 'term', 'memory', 'speed', 'time', 'might', 'make', 'sense', 'use', 'mix', 'framework', 'style', 'example', 'parameter', 'update', 'done', 'imperatively', 'gradient', 'calculation', 'done', 'symbolicallymxnet', '2019a', 'mxnet', 'allows', 'mix', 'stylesnvidia', 'developer', 'gluon', 'us', 'imperative', 'style', 'easier', 'model', 'development', 'also', 'supporting', 'dynamic', 'graphsmxnet', '2019ball', 'data', 'represented', 'tensor', 'multidimensional', 'array', 'dl', 'framework', 'must', 'therefore', 'support', 'tensor', 'operation', 'themsanthanam', 'ability', 'define', 'dynamic', 'computational', 'graph', 'desired', 'developer', 'dynamic', 'mean', 'graph', 'node', 'added', 'removed', 'runtime', 'pytorch', 'chainer', 'graph', 'defined', 'dynamically', 'tensorflow', 'define', 'entire', 'computation', 'graph', 'run', 'itmwiti', 'tensorflow', 'recently', 'tensorflow', 'fold', 'dynamic', 'graph', 'eager', 'execution', 'immediate', 'executionneuromation', 'essential', 'operation', 'dl', 'network', 'learning', 'function', 'differentiation', 'automatic', 'differentiation', 'feature', 'must', 'supported', 'dl', 'framework', 'straightforward', 'framework', 'us', 'computational', 'graphsanthanam', 'imagejpg', 'mobile', 'library', 'dl', 'inference', 'source', 'koul', 'slide', 'koul', 'slide', 'deep', 'learning', 'involves', 'training', 'inference', 'training', 'often', 'done', 'cloud', 'cluster', 'inference', 'time', 'happen', 'constrained', 'iot', 'device', 'embedded', 'system', 'smartphones', 'thus', 'trained', 'model', 'able', 'run', 'armbased', 'hardware', 'example', 'caffe2', 'suitable', 'smartphones', 'tensorflow', 'research', 'serverside', 'deploymentbhatia', 'however', 'tensorflow', 'litehttpswwwtensorfloworglite', 'inference', 'constrained', 'device', 'running', 'nvidia', 'gpus', 'check', 'support', 'cuda', 'enables', 'efficient', 'use', 'gpus', 'alternative', 'cuda', 'opencl', 'dl', 'framework', 'support', 'itheller', 'openmp', 'widely', 'supported', 'enables', 'multiplatform', 'shared', 'memory', 'multiprocessingwikipedia', '2019a', 'addition', 'hardware', 'vendor', 'provide', 'number', 'library', 'optimizers', 'dl', 'framework', 'make', 'best', 'use', 'hardware', 'among', 'nvidias', 'cudnn', 'cublas', 'cusparse', 'tensorrt', 'deepstream', 'many', 'moreheller', 'intel', 'offer', 'math', 'kernel', 'library', 'deep', 'neural', 'network', 'mkldnn', 'data', 'analytics', 'acceleration', 'library', 'daal', 'openvino', 'ngraph', 'othersintel', 'ai', 'academy', 'since', 'dl', 'framework', 'always', 'improving', 'mentioned', 'starting', 'point', 'study', 'one', 'study', 'early', 'compared', 'dl', 'framework', 'three', 'datasets', 'nvidia', 'gpus', 'used', 'along', 'cudnn', 'nvidia', 'library', 'tuned', 'common', 'dl', 'computation', 'among', 'faster', 'framework', 'tensorflow', 'pytorch', 'mxnet', 'cntk', 'juliaknet', 'seen', 'cntk', 'tensorflow', 'much', 'faster', 'kerascntk', 'kerastf', 'respectively', 'kera', 'simplifies', 'development', 'tradeoff', 'performancemaladkar', 'study', 'tensorflow', 'said', 'slower', 'cntk', 'mxnetskymind', 'wiki', '2019b', 'mxnet', 'stand', 'term', 'scalability', 'performanceden', 'bakker', 'ultimately', 'framework', 'may', 'matter', 'much', 'cudnn', 'used', 'provide', 'acceleration', 'nvidias', 'gpus', 'difference', 'performance', 'come', 'framework', 'scale', 'multiple', 'gpus', 'machinesheller', 'theory', 'neural', 'network', 'inspired', 'human', 'brain', 'first', 'formulated', 'alexey', 'ivakhnenko', 'team', 'create', 'first', 'working', 'deep', 'learning', 'network', 'succeed', 'building', 'layer', 'networkfogg', 'term', 'deep', 'learning', 'dl', 'used', 'first', 'time', 'mean', 'neural', 'network', 'many', 'layer', 'dl', 'network', 'much', 'layer', 'deepfogg', 'montreal', 'institute', 'learning', 'algorithm', 'mita', 'theano', 'developed', 'python', 'efficient', 'math', 'operation', 'run', 'either', 'cpu', 'gpu', 'architectureswikipedia', '2019c', 'enables', 'developer', 'run', 'rapid', 'experiment', 'deep', 'learning', 'later', 'year', 'theano', 'go', 'inspire', 'framework', 'ten', 'year', 'later', 'announced', 'theano', 'longer', 'actively', 'maintainedpeng', 'invented', 'berkeley', 'vision', 'learning', 'center', 'uc', 'berkeley', 'caffe', 'framework', 'releasedwikipedia', '2019a', 'facebook', 'open', 'source', 'evolution', 'caffe', 'called', 'caffe2mannes', 'year', 'may', 'considered', 'turning', 'point', 'dl', 'framework', 'number', 'dl', 'framework', 'released', 'chainer', 'kera', 'apache', 'mxnet', 'tensorflowwikipedia', '2019amicrosoft', 'release', 'open', 'source', 'computational', 'network', 'toolkit', 'cntk', 'dl', 'toolkit', 'using', 'internally', 'speech', 'image', 'recognition', 'cntk', 'support', 'multiple', 'gpus', 'across', 'multiple', 'machineslinn', 'pythonbased', 'open', 'source', 'library', 'kera', 'released', 'major', 'rewrite', 'kera', 'backward', 'compatiblechollet', 'said', 'kera', 'api', 'designed', 'human', 'being', 'machineshale', 'among', 'framework', 'come', 'caffe2', 'facebookmannes', 'deeplearning4j', 'java', 'scala', 'community', 'becomes', 'part', 'eclipse', 'foundation', 'although', 'origin', 'traced', 'skymind', 'wiki', '2019a', 'pytorch', 'open', 'sourced', 'facebook', 'start', 'become', 'popular', 'dl', 'course', 'fastai', 'adopts', 'itskymind', 'wiki', '2019bwith', 'many', 'dl', 'framework', 'landscape', 'look', 'fragmented', 'developer', 'open', 'neural', 'network', 'exchange', 'onnx', 'released', 'open', 'format', 'enables', 'developer', 'exportimport', 'model', 'fromto', 'framework', 'example', 'build', 'pytorch', 'model', 'export', 'onnx', 'format', 'import', 'mxnet', 'used', 'inferenceden', 'bakker', 'imagejpg', 'mention', 'dl', 'framework', 'arxiv', 'research', 'paper', 'source', 'neuromation', 'neuromation', 'analysis', 'arxiv', 'ml', 'paper', 'show', 'popularity', 'tensorflow', 'overtaken', 'caffe', 'adoption', 'kera', 'pytorch', 'also', 'appear', 'growingneuromation', 'caffe2', 'pytorch', 'facebook', 'plan', 'come', 'together', 'single', 'platform', 'intent', 'combine', 'flexible', 'user', 'experience', 'pytorch', 'frontend', 'scaling', 'deployment', 'embedding', 'capability', 'caffe2', 'backendcaffe2', 'based', 'pytorch', 'v1', 'fastai', 'released', 'free', 'open', 'source', 'library', 'dlhoward']\n",
            "['imagepng', 'selection', 'deep', 'learning', 'framework', 'corporate', 'backing', 'source', 'den', 'bakker', 'den', 'bakker', 'deep', 'learning', 'dl', 'neural', 'network', 'approach', 'machine', 'learning', 'ml', 'possible', 'build', 'dl', 'solution', 'scratch', 'dl', 'framework', 'convenient', 'way', 'build', 'quickly', 'framework', 'provide', 'different', 'neural', 'network', 'architecture', 'box', 'popular', 'language', 'developer', 'use', 'across', 'multiple', 'platform', 'choosing', 'framework', 'problem', 'depends', 'number', 'factor', 'therefore', 'possible', 'name', 'one', 'framework', 'preferred', 'another', 'many', 'framework', 'open', 'source', 'cloud', 'provider', 'also', 'provide', 'easy', 'way', 'deploy', 'execute', 'framework', 'infrastructure', 'sometimes', 'term', 'framework', 'used', 'interchangeably', 'term', 'toolkit', 'libraryimagepng', 'chart', 'showing', 'popular', 'dl', 'framework', 'source', 'hale', 'hale', 'among', 'popular', 'open', 'source', 'dl', 'framework', 'tensorflow', 'caffe', 'kera', 'pytorch', 'caffe2', 'cntk', 'mxnet', 'deeplearning4j', 'dl4j', 'many', 'many', 'framework', 'support', 'python', 'programming', 'language', 'choice', 'dl4j', 'java', 'programmer', 'model', 'written', 'kera', 'imported', 'dl4jhale', 'among', 'supporting', 'c', 'include', 'caffe', 'dl4j', 'cntk', 'mxnet', 'tensorflowwikipedia', '2019a', 'torch', 'written', 'lua', 'cwikipedia', '2019b', 'pytorch', 'extends', 'improves', 'python', 'support', 'paddle', 'framework', 'baiduskymind', 'wiki', '2019b', 'framework', 'level', 'abstraction', 'example', 'kera', 'provides', 'simpler', 'api', 'developer', 'sits', 'top', 'tensorflow', 'theano', 'cntkhale', 'likewise', 'gluon', 'api', 'work', 'mxnet', 'cntkskymind', 'wiki', '2019b', 'gluon', 'seen', 'competition', 'kerasden', 'bakker', 'among', 'open', 'sourced', 'intel', 'math', 'kernel', 'library', 'matlab', 'neural', 'network', 'toolbox', 'neural', 'designer', 'wolfram', 'mathematica', 'neuralnetworkswikipedia', '2019a', 'curated', 'list', 'ml', 'frameworkshttpsgithubcomjosephmisitiawesomemachinelearning', 'available', 'onlineimagepng', 'comparison', 'dl', 'framework', 'source', 'rubashkin', 'rubashkin', 'obvious', 'factor', 'consider', 'licensing', 'documentation', 'active', 'community', 'adoption', 'programming', 'language', 'modularity', 'ease', 'use', 'performance', 'kera', 'pytorch', 'said', 'easy', 'use', 'also', 'consider', 'tensorflow', 'popularityhale', 'specifically', 'check', 'followingskymind', 'wiki', '2019b', 'style', 'imperative', 'symbolic', 'core', 'development', 'environment', 'programming', 'language', 'intuitive', 'api', 'fast', 'compile', 'time', 'tool', 'debugger', 'support', 'abstracting', 'computational', 'graphden', 'bakker', 'graph', 'visualization', 'tensorboard', 'etc', 'neural', 'network', 'architecture', 'support', 'deep', 'autoencoders', 'restricted', 'boltzmann', 'machine', 'rbms', 'convolutional', 'neural', 'network', 'cnns', 'recurrent', 'neural', 'network', 'rnns', 'long', 'shortterm', 'memory', 'lstms', 'generative', 'adversarial', 'network', 'gans', 'etc', 'optimization', 'algorithm', 'gradient', 'descent', 'gd', 'momentumbased', 'gd', 'adagrad', 'rmsprop', 'adammwiti', 'etc', 'targeted', 'application', 'area', 'image', 'recognition', 'video', 'detection', 'voiceaudio', 'recognition', 'text', 'analytics', 'natural', 'language', 'processing', 'nlp', 'timeseries', 'forecasting', 'etc', 'hardware', 'extensibility', 'support', 'multiple', 'cpu', 'gpus', 'gpgpus', 'tpus', 'across', 'multiple', 'machine', 'cluster', 'optimized', 'hardware', 'execute', 'optimized', 'lowlevel', 'code', 'supporting', 'cuda', 'blas', 'etcsanthanam', 'deployment', 'framework', 'easy', 'deploy', 'production', 'tensorflow', 'servingmakadia', 'let', 'u', 'briefly', 'understand', 'difference', 'two', 'imperative', 'program', 'perform', 'computation', 'encountered', 'along', 'program', 'flow', 'symbolic', 'program', 'define', 'symbol', 'combined', 'result', 'call', 'computational', 'graph', 'symbol', 'might', 'initial', 'value', 'symbol', 'acquire', 'value', 'graph', 'compiled', 'invoked', 'particular', 'valuesmxnet', '2019a', 'torch', 'chainer', 'minerva', 'example', 'imperativestyle', 'dl', 'framework', 'symbolicstyle', 'dl', 'framework', 'include', 'tensorflow', 'theano', 'cgt', 'also', 'symbolic', 'style', 'cxxnet', 'caffe', 'define', 'graph', 'configuration', 'filesmxnet', '2019a', 'imperative', 'framework', 'flexible', 'since', 'closer', 'language', 'symbolic', 'framework', 'le', 'flexibility', 'since', 'write', 'domainspecific', 'language', 'however', 'symbolic', 'framework', 'tend', 'efficient', 'term', 'memory', 'speed', 'time', 'might', 'make', 'sense', 'use', 'mix', 'framework', 'style', 'example', 'parameter', 'update', 'done', 'imperatively', 'gradient', 'calculation', 'done', 'symbolicallymxnet', '2019a', 'mxnet', 'allows', 'mix', 'stylesnvidia', 'developer', 'gluon', 'us', 'imperative', 'style', 'easier', 'model', 'development', 'also', 'supporting', 'dynamic', 'graphsmxnet', '2019ball', 'data', 'represented', 'tensor', 'multidimensional', 'array', 'dl', 'framework', 'must', 'therefore', 'support', 'tensor', 'operation', 'themsanthanam', 'ability', 'define', 'dynamic', 'computational', 'graph', 'desired', 'developer', 'dynamic', 'mean', 'graph', 'node', 'added', 'removed', 'runtime', 'pytorch', 'chainer', 'graph', 'defined', 'dynamically', 'tensorflow', 'define', 'entire', 'computation', 'graph', 'run', 'itmwiti', 'tensorflow', 'recently', 'tensorflow', 'fold', 'dynamic', 'graph', 'eager', 'execution', 'immediate', 'executionneuromation', 'essential', 'operation', 'dl', 'network', 'learning', 'function', 'differentiation', 'automatic', 'differentiation', 'feature', 'must', 'supported', 'dl', 'framework', 'straightforward', 'framework', 'us', 'computational', 'graphsanthanam', 'imagejpg', 'mobile', 'library', 'dl', 'inference', 'source', 'koul', 'slide', 'koul', 'slide', 'deep', 'learning', 'involves', 'training', 'inference', 'training', 'often', 'done', 'cloud', 'cluster', 'inference', 'time', 'happen', 'constrained', 'iot', 'device', 'embedded', 'system', 'smartphones', 'thus', 'trained', 'model', 'able', 'run', 'armbased', 'hardware', 'example', 'caffe2', 'suitable', 'smartphones', 'tensorflow', 'research', 'serverside', 'deploymentbhatia', 'however', 'tensorflow', 'litehttpswwwtensorfloworglite', 'inference', 'constrained', 'device', 'running', 'nvidia', 'gpus', 'check', 'support', 'cuda', 'enables', 'efficient', 'use', 'gpus', 'alternative', 'cuda', 'opencl', 'dl', 'framework', 'support', 'itheller', 'openmp', 'widely', 'supported', 'enables', 'multiplatform', 'shared', 'memory', 'multiprocessingwikipedia', '2019a', 'addition', 'hardware', 'vendor', 'provide', 'number', 'library', 'optimizers', 'dl', 'framework', 'make', 'best', 'use', 'hardware', 'among', 'nvidias', 'cudnn', 'cublas', 'cusparse', 'tensorrt', 'deepstream', 'many', 'moreheller', 'intel', 'offer', 'math', 'kernel', 'library', 'deep', 'neural', 'network', 'mkldnn', 'data', 'analytics', 'acceleration', 'library', 'daal', 'openvino', 'ngraph', 'othersintel', 'ai', 'academy', 'since', 'dl', 'framework', 'always', 'improving', 'mentioned', 'starting', 'point', 'study', 'one', 'study', 'early', 'compared', 'dl', 'framework', 'three', 'datasets', 'nvidia', 'gpus', 'used', 'along', 'cudnn', 'nvidia', 'library', 'tuned', 'common', 'dl', 'computation', 'among', 'faster', 'framework', 'tensorflow', 'pytorch', 'mxnet', 'cntk', 'juliaknet', 'seen', 'cntk', 'tensorflow', 'much', 'faster', 'kerascntk', 'kerastf', 'respectively', 'kera', 'simplifies', 'development', 'tradeoff', 'performancemaladkar', 'study', 'tensorflow', 'said', 'slower', 'cntk', 'mxnetskymind', 'wiki', '2019b', 'mxnet', 'stand', 'term', 'scalability', 'performanceden', 'bakker', 'ultimately', 'framework', 'may', 'matter', 'much', 'cudnn', 'used', 'provide', 'acceleration', 'nvidias', 'gpus', 'difference', 'performance', 'come', 'framework', 'scale', 'multiple', 'gpus', 'machinesheller', 'theory', 'neural', 'network', 'inspired', 'human', 'brain', 'first', 'formulated', 'alexey', 'ivakhnenko', 'team', 'create', 'first', 'working', 'deep', 'learning', 'network', 'succeed', 'building', 'layer', 'networkfogg', 'term', 'deep', 'learning', 'dl', 'used', 'first', 'time', 'mean', 'neural', 'network', 'many', 'layer', 'dl', 'network', 'much', 'layer', 'deepfogg', 'montreal', 'institute', 'learning', 'algorithm', 'mita', 'theano', 'developed', 'python', 'efficient', 'math', 'operation', 'run', 'either', 'cpu', 'gpu', 'architectureswikipedia', '2019c', 'enables', 'developer', 'run', 'rapid', 'experiment', 'deep', 'learning', 'later', 'year', 'theano', 'go', 'inspire', 'framework', 'ten', 'year', 'later', 'announced', 'theano', 'longer', 'actively', 'maintainedpeng', 'invented', 'berkeley', 'vision', 'learning', 'center', 'uc', 'berkeley', 'caffe', 'framework', 'releasedwikipedia', '2019a', 'facebook', 'open', 'source', 'evolution', 'caffe', 'called', 'caffe2mannes', 'year', 'may', 'considered', 'turning', 'point', 'dl', 'framework', 'number', 'dl', 'framework', 'released', 'chainer', 'kera', 'apache', 'mxnet', 'tensorflowwikipedia', '2019amicrosoft', 'release', 'open', 'source', 'computational', 'network', 'toolkit', 'cntk', 'dl', 'toolkit', 'using', 'internally', 'speech', 'image', 'recognition', 'cntk', 'support', 'multiple', 'gpus', 'across', 'multiple', 'machineslinn', 'pythonbased', 'open', 'source', 'library', 'kera', 'released', 'major', 'rewrite', 'kera', 'backward', 'compatiblechollet', 'said', 'kera', 'api', 'designed', 'human', 'being', 'machineshale', 'among', 'framework', 'come', 'caffe2', 'facebookmannes', 'deeplearning4j', 'java', 'scala', 'community', 'becomes', 'part', 'eclipse', 'foundation', 'although', 'origin', 'traced', 'skymind', 'wiki', '2019a', 'pytorch', 'open', 'sourced', 'facebook', 'start', 'become', 'popular', 'dl', 'course', 'fastai', 'adopts', 'itskymind', 'wiki', '2019bwith', 'many', 'dl', 'framework', 'landscape', 'look', 'fragmented', 'developer', 'open', 'neural', 'network', 'exchange', 'onnx', 'released', 'open', 'format', 'enables', 'developer', 'exportimport', 'model', 'fromto', 'framework', 'example', 'build', 'pytorch', 'model', 'export', 'onnx', 'format', 'import', 'mxnet', 'used', 'inferenceden', 'bakker', 'imagejpg', 'mention', 'dl', 'framework', 'arxiv', 'research', 'paper', 'source', 'neuromation', 'neuromation', 'analysis', 'arxiv', 'ml', 'paper', 'show', 'popularity', 'tensorflow', 'overtaken', 'caffe', 'adoption', 'kera', 'pytorch', 'also', 'appear', 'growingneuromation', 'caffe2', 'pytorch', 'facebook', 'plan', 'come', 'together', 'single', 'platform', 'intent', 'combine', 'flexible', 'user', 'experience', 'pytorch', 'frontend', 'scaling', 'deployment', 'embedding', 'capability', 'caffe2', 'backendcaffe2', 'based', 'pytorch', 'v1', 'fastai', 'released', 'free', 'open', 'source', 'library', 'dlhoward']\n"
          ],
          "name": "stdout"
        }
      ]
    },
    {
      "cell_type": "code",
      "metadata": {
        "id": "UdpcLnxh1vlC",
        "colab_type": "code",
        "outputId": "f73c8e67-7503-4f16-8702-145dda2079bb",
        "colab": {
          "base_uri": "https://localhost:8080/",
          "height": 35
        }
      },
      "source": [
        "\n",
        "\n",
        "model = Doc2Vec(vector_size=EMB_DIM,\n",
        "                alpha=alpha, \n",
        "                min_alpha=alpha,\n",
        "                min_count=2,\n",
        "                dm =0,dbow_words=1)\n",
        "               "
      ],
      "execution_count": 145,
      "outputs": [
        {
          "output_type": "stream",
          "text": [
            "WARNING:gensim.models.base_any2vec:consider setting layer size to a multiple of 4 for greater performance\n"
          ],
          "name": "stderr"
        }
      ]
    },
    {
      "cell_type": "code",
      "metadata": {
        "id": "DzRvH2lc1xMn",
        "colab_type": "code",
        "outputId": "95e604e3-c1aa-4df9-c894-5eaa33a3d2b1",
        "colab": {
          "base_uri": "https://localhost:8080/",
          "height": 1000
        }
      },
      "source": [
        "model.build_vocab(tagged_data)\n",
        "ref_vec1=[]\n",
        "ref_vec2=[]\n",
        "for epoch in range(MAX_EPOCHS):\n",
        "    print('iteration {0}'.format(epoch))\n",
        "    model.train(tagged_data,\n",
        "                total_examples=model.corpus_count,\n",
        "                epochs=model.iter)\n",
        "    \n",
        "\n",
        "    if(DEBUG_MODE==1):\n",
        "      ref_vec1.append(model.docvecs[str(45)])\n",
        "      ff1=model.infer_vector(list(tagged_data_full[45]))\n",
        "      ref_vec2.append(model.docvecs[str(145)])\n",
        "      ff2=model.infer_vector(list(tagged_data_full[145]))\n",
        "      if(epoch>1):\n",
        "        print(np.dot(ref_vec1[epoch],ref_vec1[epoch-1])/np.sqrt(np.dot(ref_vec1[epoch],ref_vec1[epoch])*np.dot(ref_vec1[epoch-1],ref_vec1[epoch-1])))\n",
        "        print(np.dot(ff1,ref_vec1[epoch])/np.sqrt(np.dot(ff1,ff1)*np.dot(ref_vec1[epoch],ref_vec1[epoch])))\n",
        "        print(np.dot(ref_vec2[epoch],ref_vec2[epoch-1])/np.sqrt(np.dot(ref_vec2[epoch],ref_vec2[epoch])*np.dot(ref_vec2[epoch-1],ref_vec2[epoch-1])))\n",
        "        print(np.dot(ff2,ref_vec2[epoch])/np.sqrt(np.dot(ff2,ff2)*np.dot(ref_vec2[epoch],ref_vec2[epoch])))\n",
        "        print(model.alpha)\n",
        "\n",
        "    # decrease the learning rate\n",
        "    model.alpha -= ALPHA_STEP\n",
        "    model.alpha=max(model.alpha,MIN_ALPHA)\n",
        "    # fix the learning rate, no decay\n",
        "    model.min_alpha = model.alpha\n",
        "    \n",
        "\n",
        "model.save(\"d2v.model\")\n",
        "print(\"Model Saved\")"
      ],
      "execution_count": 146,
      "outputs": [
        {
          "output_type": "stream",
          "text": [
            "iteration 0\n"
          ],
          "name": "stdout"
        },
        {
          "output_type": "stream",
          "text": [
            "/usr/local/lib/python3.6/dist-packages/ipykernel_launcher.py:8: DeprecationWarning: Call to deprecated `iter` (Attribute will be removed in 4.0.0, use self.epochs instead).\n",
            "  \n"
          ],
          "name": "stderr"
        },
        {
          "output_type": "stream",
          "text": [
            "iteration 1\n",
            "iteration 2\n",
            "1.0\n",
            "0.91510814\n",
            "1.0\n",
            "0.92851484\n",
            "0.023\n",
            "iteration 3\n",
            "1.0\n",
            "0.91564196\n",
            "1.0\n",
            "0.9247079\n",
            "0.022\n",
            "iteration 4\n",
            "1.0\n",
            "0.9338464\n",
            "1.0\n",
            "0.94098926\n",
            "0.020999999999999998\n",
            "iteration 5\n",
            "1.0\n",
            "0.93894035\n",
            "1.0\n",
            "0.94689\n",
            "0.019999999999999997\n",
            "iteration 6\n",
            "1.0\n",
            "0.93993753\n",
            "1.0\n",
            "0.92212737\n",
            "0.018999999999999996\n",
            "iteration 7\n",
            "1.0\n",
            "0.9333887\n",
            "1.0\n",
            "0.9521135\n",
            "0.017999999999999995\n",
            "iteration 8\n",
            "1.0\n",
            "0.9363419\n",
            "1.0\n",
            "0.92488945\n",
            "0.016999999999999994\n",
            "iteration 9\n",
            "1.0\n",
            "0.95392144\n",
            "1.0\n",
            "0.9401182\n",
            "0.015999999999999993\n",
            "iteration 10\n",
            "1.0\n",
            "0.9378138\n",
            "1.0\n",
            "0.94570184\n",
            "0.014999999999999993\n",
            "iteration 11\n",
            "1.0\n",
            "0.9571391\n",
            "1.0\n",
            "0.9482961\n",
            "0.013999999999999992\n",
            "iteration 12\n",
            "1.0\n",
            "0.9489158\n",
            "1.0\n",
            "0.9645832\n",
            "0.01299999999999999\n",
            "iteration 13\n",
            "1.0\n",
            "0.9463468\n",
            "1.0\n",
            "0.95951766\n",
            "0.01199999999999999\n",
            "iteration 14\n",
            "1.0\n",
            "0.9505759\n",
            "1.0\n",
            "0.9697467\n",
            "0.010999999999999989\n",
            "iteration 15\n",
            "1.0\n",
            "0.9490917\n",
            "1.0\n",
            "0.9629939\n",
            "0.009999999999999988\n",
            "iteration 16\n",
            "1.0\n",
            "0.9484942\n",
            "1.0\n",
            "0.9653975\n",
            "0.008999999999999987\n",
            "iteration 17\n",
            "1.0\n",
            "0.94876593\n",
            "1.0\n",
            "0.9672195\n",
            "0.007999999999999986\n",
            "iteration 18\n",
            "1.0\n",
            "0.9562882\n",
            "1.0\n",
            "0.9645592\n",
            "0.006999999999999986\n",
            "iteration 19\n",
            "1.0\n",
            "0.9546634\n",
            "1.0\n",
            "0.96219957\n",
            "0.005999999999999986\n",
            "Model Saved\n"
          ],
          "name": "stdout"
        },
        {
          "output_type": "stream",
          "text": [
            "/usr/local/lib/python3.6/dist-packages/smart_open/smart_open_lib.py:253: UserWarning: This function is deprecated, use smart_open.open instead. See the migration notes for details: https://github.com/RaRe-Technologies/smart_open/blob/master/README.rst#migrating-to-the-new-open-function\n",
            "  'See the migration notes for details: %s' % _MIGRATION_NOTES_URL\n"
          ],
          "name": "stderr"
        }
      ]
    },
    {
      "cell_type": "code",
      "metadata": {
        "id": "uAAKuoxx4-mK",
        "colab_type": "code",
        "colab": {
          "base_uri": "https://localhost:8080/",
          "height": 1000
        },
        "outputId": "2b2d5609-209f-411f-8e15-d313a2bfc4f0"
      },
      "source": [
        "#Compute the metric and dump the results based on the metric \n",
        "import random\n",
        "#ref_id=random.randint(0,len(titles));\n",
        "#ref_id=774\n",
        "fields = ['ref doc', 'predicted see also', 'predicted metric', 'wiki see also','predicted metric for wiki','Success']  \n",
        "#fields = ['ref doc', 'predicted see also[JS]', 'predicted metric[JS]', 'predicted see also[HM]', 'predicted metric[HM]', 'wiki see also','predicted metric for wiki[JS]','predicted metric for wiki[HM]']  \n",
        "#fields = ['ref doc', 'predicted see also[JS]', 'predicted metric[JS]', 'predicted see also[HM]', 'predicted metric[HM]']  \n",
        "model= Doc2Vec.load(\"d2v.model\")\n",
        "model.alpha=MIN_ALPHA\n",
        "resultsDict={}\n",
        "docvecs=[]\n",
        "docvecs2=[]\n",
        "docnames=[]\n",
        "titles1_full=np.array(titles_full)\n",
        "titles1_test=np.array(titles_test)\n",
        "titles1_train=np.array(titles_train)\n",
        "\n",
        "print(len(titles1_test))\n",
        "print(len(titles1_train))\n",
        "print(len(titles1_full))\n",
        "TOPK=10\n",
        "from gensim.matutils import hellinger\n",
        "###Compute the distribution vectors for all data (wiki+devopedia)\n",
        "for ref_id in range(len(titles1_full)):\n",
        "  docvecs2.append(model.docvecs[str(ref_id)])\n",
        "  docvecs.append(model.infer_vector(list(tagged_data_full[ref_id])))\n",
        "\n",
        "  docnames.append(titles1_full[ref_id]) \n",
        "  \n",
        "  if(DEBUG_MODE==2):\n",
        "    v1=model.docvecs[str(ref_id)]\n",
        "    v2=model.infer_vector(list(tagged_data[ref_id][0]),alpha=MIN_ALPHA,min_alpha=MIN_ALPHA,epochs=100)\n",
        "    v3=model.infer_vector(list(tagged_data_full[ref_id]),alpha=MIN_ALPHA,min_alpha=MIN_ALPHA,epochs=100)\n",
        "    print(np.dot(v1,v2)/(np.sqrt(np.dot(v1,v1)*np.dot(v2,v2))))\n",
        "    print(np.dot(v1,v3)/(np.sqrt(np.dot(v1,v1)*np.dot(v3,v3))))\n",
        "    print(np.dot(v2,v3)/(np.sqrt(np.dot(v2,v2)*np.dot(v3,v3))))\n",
        "  \n",
        "##Compute the see also for the wiki only data  \n",
        "cos_sim2=[]\n",
        "for ref_id in range(len(titles1_test)):\n",
        "  cos_sim1=[]\n",
        "  cos_sim2.append(np.dot(docvecs[ref_id],docvecs2[ref_id])/(np.sqrt(np.dot(docvecs[ref_id],docvecs[ref_id])*np.dot(docvecs2[ref_id],docvecs2[ref_id]))))\n",
        "  print(ref_id)\n",
        "  for docid in range(len(titles1_full)):\n",
        "    if(docnames[docid]==docnames[ref_id]):\n",
        "      cos_sim1.append(0)\n",
        "      continue\n",
        "    doc_i=docvecs[docid]\n",
        "    doc0=docvecs[ref_id] \n",
        "    csim=np.dot(doc0,doc_i)/(np.sqrt(np.dot(doc0,doc0)*np.dot(doc_i,doc_i)))\n",
        "    cos_sim1.append(csim)\n",
        "  #plt.plot(jssim_vec)\n",
        "  #plt.show\n",
        "#print(doclist[0])\n",
        "  cos_sim=np.array(cos_sim1)\n",
        "  #print(len(cos_sim))\n",
        "  top5idx=np.argpartition(cos_sim, -TOPK)[-TOPK:]\n",
        "  related1=np.array(related_full)\n",
        "  resultsDict.setdefault(fields[0], []).append(titles1_full[ref_id])\n",
        "  resultsDict.setdefault(fields[1], []).append(titles1_full[top5idx[:TOPK]])\n",
        "  resultsDict.setdefault(fields[2], []).append(cos_sim[top5idx[:TOPK]])\n",
        "  ##Check the metric values for the see also present in the Dataset\n",
        "  if(ref_id > len(titles1_test)):\n",
        "    U=[S[2:] for S in related1[ref_id].split('\\n')]\n",
        "    U=U[1:-1]\n",
        "    if '' in U:\n",
        "      U=U[:U.index('')]\n",
        "  else:\n",
        "     U=related1[ref_id]   \n",
        "  #print('Top five related documents from Wiki-->',U)\n",
        "  overlap_idx=[]\n",
        "  wikiseenames=[]\n",
        "  wikiseemetrics=[]\n",
        "  wikiseemetrics_hm=[]\n",
        "\n",
        "  for ind in range(len(U)):\n",
        "    for ind2 in range(len(doclist)):\n",
        "      if(U[ind]==titles_full[ind2]):\n",
        "        overlap_idx.append(ind2)\n",
        "        wikiseenames.append(titles1_full[ind2])\n",
        "        wikiseemetrics.append(cos_sim[ind2])\n",
        "          \n",
        "  resultsDict.setdefault(fields[3], []).append(wikiseenames)\n",
        "  resultsDict.setdefault(fields[4], []).append(wikiseemetrics)\n",
        "  resultsDict.setdefault(fields[5], []).append(len([correct for correct in titles1_full[top5idx[:TOPK]] if correct in wikiseenames]))\n"
      ],
      "execution_count": 147,
      "outputs": [
        {
          "output_type": "stream",
          "text": [
            "/usr/local/lib/python3.6/dist-packages/smart_open/smart_open_lib.py:253: UserWarning: This function is deprecated, use smart_open.open instead. See the migration notes for details: https://github.com/RaRe-Technologies/smart_open/blob/master/README.rst#migrating-to-the-new-open-function\n",
            "  'See the migration notes for details: %s' % _MIGRATION_NOTES_URL\n"
          ],
          "name": "stderr"
        },
        {
          "output_type": "stream",
          "text": [
            "225\n",
            "517\n",
            "517\n",
            "0\n",
            "1\n",
            "2\n",
            "3\n",
            "4\n",
            "5\n",
            "6\n",
            "7\n",
            "8\n",
            "9\n",
            "10\n",
            "11\n",
            "12\n",
            "13\n",
            "14\n",
            "15\n",
            "16\n",
            "17\n",
            "18\n",
            "19\n",
            "20\n",
            "21\n",
            "22\n",
            "23\n",
            "24\n",
            "25\n",
            "26\n",
            "27\n",
            "28\n",
            "29\n",
            "30\n",
            "31\n",
            "32\n",
            "33\n",
            "34\n",
            "35\n",
            "36\n",
            "37\n",
            "38\n",
            "39\n",
            "40\n",
            "41\n",
            "42\n",
            "43\n",
            "44\n",
            "45\n",
            "46\n",
            "47\n",
            "48\n",
            "49\n",
            "50\n",
            "51\n",
            "52\n",
            "53\n",
            "54\n",
            "55\n",
            "56\n",
            "57\n",
            "58\n",
            "59\n",
            "60\n",
            "61\n",
            "62\n",
            "63\n",
            "64\n",
            "65\n",
            "66\n",
            "67\n",
            "68\n",
            "69\n",
            "70\n",
            "71\n",
            "72\n",
            "73\n",
            "74\n",
            "75\n",
            "76\n",
            "77\n",
            "78\n",
            "79\n",
            "80\n",
            "81\n",
            "82\n",
            "83\n",
            "84\n",
            "85\n",
            "86\n",
            "87\n",
            "88\n",
            "89\n",
            "90\n",
            "91\n",
            "92\n",
            "93\n",
            "94\n",
            "95\n",
            "96\n",
            "97\n",
            "98\n",
            "99\n",
            "100\n",
            "101\n",
            "102\n",
            "103\n",
            "104\n",
            "105\n",
            "106\n",
            "107\n",
            "108\n",
            "109\n",
            "110\n",
            "111\n",
            "112\n",
            "113\n",
            "114\n",
            "115\n",
            "116\n",
            "117\n",
            "118\n",
            "119\n",
            "120\n",
            "121\n",
            "122\n",
            "123\n",
            "124\n",
            "125\n",
            "126\n",
            "127\n",
            "128\n",
            "129\n",
            "130\n",
            "131\n",
            "132\n",
            "133\n",
            "134\n",
            "135\n",
            "136\n",
            "137\n",
            "138\n",
            "139\n",
            "140\n",
            "141\n",
            "142\n",
            "143\n",
            "144\n",
            "145\n",
            "146\n",
            "147\n",
            "148\n",
            "149\n",
            "150\n",
            "151\n",
            "152\n",
            "153\n",
            "154\n",
            "155\n",
            "156\n",
            "157\n",
            "158\n",
            "159\n",
            "160\n",
            "161\n",
            "162\n",
            "163\n",
            "164\n",
            "165\n",
            "166\n",
            "167\n",
            "168\n",
            "169\n",
            "170\n",
            "171\n",
            "172\n",
            "173\n",
            "174\n",
            "175\n",
            "176\n",
            "177\n",
            "178\n",
            "179\n",
            "180\n",
            "181\n",
            "182\n",
            "183\n",
            "184\n",
            "185\n",
            "186\n",
            "187\n",
            "188\n",
            "189\n",
            "190\n",
            "191\n",
            "192\n",
            "193\n",
            "194\n",
            "195\n",
            "196\n",
            "197\n",
            "198\n",
            "199\n",
            "200\n",
            "201\n",
            "202\n",
            "203\n",
            "204\n",
            "205\n",
            "206\n",
            "207\n",
            "208\n",
            "209\n",
            "210\n",
            "211\n",
            "212\n",
            "213\n",
            "214\n",
            "215\n",
            "216\n",
            "217\n",
            "218\n",
            "219\n",
            "220\n",
            "221\n",
            "222\n",
            "223\n",
            "224\n"
          ],
          "name": "stdout"
        }
      ]
    },
    {
      "cell_type": "code",
      "metadata": {
        "id": "zdVR4LgzN5M6",
        "colab_type": "code",
        "colab": {
          "base_uri": "https://localhost:8080/",
          "height": 69
        },
        "outputId": "29c53a19-26ef-46d2-b75f-cc318f11f866"
      },
      "source": [
        "import random\n",
        "ref_id=random.randint(0,len(titles1_test));\n",
        "v1=model.docvecs[str(ref_id)]\n",
        "v2=model.infer_vector(list(tagged_data[ref_id][0]))\n",
        "v3=model.infer_vector(list(tagged_data_full[ref_id]))\n",
        "\n",
        "print(np.dot(v1,v2)/(np.sqrt(np.dot(v1,v1)*np.dot(v2,v2))))\n",
        "print(np.dot(v1,v3)/(np.sqrt(np.dot(v1,v1)*np.dot(v3,v3))))\n",
        "print(np.dot(v2,v3)/(np.sqrt(np.dot(v2,v2)*np.dot(v3,v3))))"
      ],
      "execution_count": 148,
      "outputs": [
        {
          "output_type": "stream",
          "text": [
            "0.9246642\n",
            "0.92554665\n",
            "0.9983656\n"
          ],
          "name": "stdout"
        }
      ]
    },
    {
      "cell_type": "code",
      "metadata": {
        "id": "t-QjnPv-brK4",
        "colab_type": "code",
        "colab": {
          "base_uri": "https://localhost:8080/",
          "height": 282
        },
        "outputId": "b0ea0872-d848-48cb-d154-d3962a117fc8"
      },
      "source": [
        "plt.plot(cos_sim2)"
      ],
      "execution_count": 149,
      "outputs": [
        {
          "output_type": "execute_result",
          "data": {
            "text/plain": [
              "[<matplotlib.lines.Line2D at 0x7fc2aef69ef0>]"
            ]
          },
          "metadata": {
            "tags": []
          },
          "execution_count": 149
        },
        {
          "output_type": "display_data",
          "data": {
            "image/png": "[encoded data removed]",
            "text/plain": [
              "<Figure size 432x288 with 1 Axes>"
            ]
          },
          "metadata": {
            "tags": [],
            "needs_background": "light"
          }
        }
      ]
    },
    {
      "cell_type": "code",
      "metadata": {
        "id": "ZzQ2QfTcln7w",
        "colab_type": "code",
        "colab": {
          "base_uri": "https://localhost:8080/",
          "height": 69
        },
        "outputId": "f2578c11-488c-4fdd-fe7f-c0bf188ca890"
      },
      "source": [
        "dictlist = [dict() for x in range(len(titles1_test))]\n",
        "dictlist = [{fields[0]:resultsDict[fields[0]][i],fields[1]:resultsDict[fields[1]][i],fields[2]:resultsDict[fields[2]][i],fields[3]:resultsDict[fields[3]][i], fields[4]:resultsDict[fields[4]][i], fields[5]:resultsDict[fields[5]][i]} for i in range(len(titles1_test))]\n",
        "#print(dictlist)\n",
        "from google.colab import drive\n",
        "drive.mount('/content/gdrive')\n",
        "import csv\n",
        "filename = '/content/gdrive/My Drive/results_Doc2Vec_fulltrain_embdim'+str(EMB_DIM)+'_TOP'+str(TOPK)+'.csv'\n",
        "    \n",
        "print(filename)\n",
        "    \n",
        "# writing to csv file  \n",
        "with open(filename, 'w') as csvfile:  \n",
        "    # creating a csv dict writer object  \n",
        "    writer = csv.DictWriter(csvfile, fieldnames = fields)  \n",
        "        \n",
        "    # writing headers (field names)  \n",
        "    writer.writeheader()  \n",
        "    print('Manohar')    \n",
        "    # writing data rows \n",
        "    for data in dictlist:\n",
        "      writer.writerow(data)\n",
        "#!cp filename \"/content/gdrive/My Drive/\"\n"
      ],
      "execution_count": 150,
      "outputs": [
        {
          "output_type": "stream",
          "text": [
            "Drive already mounted at /content/gdrive; to attempt to forcibly remount, call drive.mount(\"/content/gdrive\", force_remount=True).\n",
            "/content/gdrive/My Drive/results_Doc2Vec_fulltrain_embdim50_TOP10.csv\n",
            "Manohar\n"
          ],
          "name": "stdout"
        }
      ]
    },
    {
      "cell_type": "code",
      "metadata": {
        "id": "ZPbh3ae3Yk9q",
        "colab_type": "code",
        "colab": {
          "base_uri": "https://localhost:8080/",
          "height": 596
        },
        "outputId": "45058d5e-99d8-418a-e6aa-4a70e0020679"
      },
      "source": [
        "from google.colab import drive\n",
        "drive.mount('/content/gdrive')\n",
        "import pandas as pd \n",
        "# Read data from file 'filename.csv' \n",
        "# (in the same directory that your python process is based)\n",
        "# Control delimiters, rows, column names with read_csv (see later) \n",
        "\n",
        "data = pd.read_csv(\"/content/gdrive/My Drive/results_LDA_NT20_P40_TOP10.csv\") \n",
        "data1 = pd.read_csv(filename) \n",
        "# Preview the first 5 lines of the loaded data \n",
        "print('Average number of correctly identified seel also [Topic modelling] = ',data['Success[HM]'].sum()/len(titles1_test))\n",
        "print('Average number of correctly identified seel also [Doc2Vec]  = ',data1['Success'].sum()/len(titles1_test))\n",
        "TM_success=data['Success[HM]']\n",
        "Doc2vec_success=data1['Success']\n",
        "import matplotlib.pyplot as plt\n",
        "plt.plot(TM_success,'b-',label='Topic Modelling')\n",
        "plt.plot(Doc2vec_success,'r-',label='Doc2Vec')\n",
        "plt.xlabel('Document ID')\n",
        "plt.ylabel('# of correctly identified see also')\n",
        "plt.legend()\n",
        "plt.show()\n",
        "\n",
        "plt.plot(TM_success-Doc2vec_success,label='Topic model - Doc2Vec')\n",
        "plt.legend()\n",
        "plt.show()\n",
        "\n",
        "diff=TM_success-Doc2vec_success\n",
        "print((diff>0).sum()/225)"
      ],
      "execution_count": 151,
      "outputs": [
        {
          "output_type": "stream",
          "text": [
            "Drive already mounted at /content/gdrive; to attempt to forcibly remount, call drive.mount(\"/content/gdrive\", force_remount=True).\n",
            "Average number of correctly identified seel also [Topic modelling] =  0.8044444444444444\n",
            "Average number of correctly identified seel also [Doc2Vec]  =  2.0355555555555553\n"
          ],
          "name": "stdout"
        },
        {
          "output_type": "display_data",
          "data": {
            "image/png": "[encoded data removed]",
            "text/plain": [
              "<Figure size 432x288 with 1 Axes>"
            ]
          },
          "metadata": {
            "tags": [],
            "needs_background": "light"
          }
        },
        {
          "output_type": "display_data",
          "data": {
            "image/png": "[encoded data removed]",
            "text/plain": [
              "<Figure size 432x288 with 1 Axes>"
            ]
          },
          "metadata": {
            "tags": [],
            "needs_background": "light"
          }
        },
        {
          "output_type": "stream",
          "text": [
            "0.02666666666666667\n"
          ],
          "name": "stdout"
        }
      ]
    },
    {
      "cell_type": "code",
      "metadata": {
        "id": "N7OTMzXQXOHU",
        "colab_type": "code",
        "colab": {
          "base_uri": "https://localhost:8080/",
          "height": 35
        },
        "outputId": "293f503c-b089-45e6-c2b4-42d72544033a"
      },
      "source": [
        "min(3,4)"
      ],
      "execution_count": 152,
      "outputs": [
        {
          "output_type": "execute_result",
          "data": {
            "text/plain": [
              "3"
            ]
          },
          "metadata": {
            "tags": []
          },
          "execution_count": 152
        }
      ]
    }
  ]
}